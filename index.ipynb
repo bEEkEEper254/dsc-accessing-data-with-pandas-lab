{
 "cells": [
  {
   "cell_type": "markdown",
   "metadata": {},
   "source": [
    "# Accessing Data within Pandas - Lab"
   ]
  },
  {
   "cell_type": "markdown",
   "metadata": {},
   "source": [
    "## Introduction\n",
    "\n",
    "In this lab, we'll look at a dataset which contains information on World Cup matches. Let's use the pandas commands learned in the previous lesson to learn more about our data!"
   ]
  },
  {
   "cell_type": "markdown",
   "metadata": {},
   "source": [
    "## Objectives\n",
    "\n",
    "You will be able to: \n",
    "\n",
    "- Use pandas methods and attributes to access information about a dataset \n",
    "- Index pandas dataframes with .loc, .iloc, and column names \n",
    "- Use a boolean mask to index pandas series and dataframes"
   ]
  },
  {
   "cell_type": "markdown",
   "metadata": {},
   "source": [
    "## Load the Data"
   ]
  },
  {
   "cell_type": "markdown",
   "metadata": {},
   "source": [
    "Load the file `'WorldCupMatches.csv'` as a DataFrame in pandas."
   ]
  },
  {
   "cell_type": "code",
   "execution_count": 2,
   "metadata": {},
   "outputs": [
    {
     "name": "stdout",
     "output_type": "stream",
     "text": [
      "     Year              Datetime                     Stage  \\\n",
      "0    1930  13 Jul 1930 - 15:00                    Group 1   \n",
      "1    1930  13 Jul 1930 - 15:00                    Group 4   \n",
      "2    1930  14 Jul 1930 - 12:45                    Group 2   \n",
      "3    1930  14 Jul 1930 - 14:50                    Group 3   \n",
      "4    1930  15 Jul 1930 - 16:00                    Group 1   \n",
      "..    ...                   ...                       ...   \n",
      "847  2014  05 Jul 2014 - 17:00             Quarter-finals   \n",
      "848  2014  08 Jul 2014 - 17:00                Semi-finals   \n",
      "849  2014  09 Jul 2014 - 17:00                Semi-finals   \n",
      "850  2014  12 Jul 2014 - 17:00   Play-off for third place   \n",
      "851  2014  13 Jul 2014 - 16:00                      Final   \n",
      "\n",
      "                 Stadium             City Home Team Name  Home Team Goals  \\\n",
      "0                Pocitos      Montevideo          France                4   \n",
      "1         Parque Central      Montevideo             USA                3   \n",
      "2         Parque Central      Montevideo      Yugoslavia                2   \n",
      "3                Pocitos      Montevideo         Romania                3   \n",
      "4         Parque Central      Montevideo       Argentina                1   \n",
      "..                   ...              ...            ...              ...   \n",
      "847     Arena Fonte Nova        Salvador     Netherlands                0   \n",
      "848     Estadio Mineirao  Belo Horizonte          Brazil                1   \n",
      "849   Arena de Sao Paulo       Sao Paulo     Netherlands                0   \n",
      "850     Estadio Nacional        Brasilia          Brazil                0   \n",
      "851  Estadio do Maracana  Rio De Janeiro         Germany                1   \n",
      "\n",
      "     Away Team Goals Away Team Name                         Win conditions  \\\n",
      "0                  1         Mexico                                          \n",
      "1                  0        Belgium                                          \n",
      "2                  1         Brazil                                          \n",
      "3                  1           Peru                                          \n",
      "4                  0         France                                          \n",
      "..               ...            ...                                    ...   \n",
      "847                0     Costa Rica  Netherlands win on penalties (4 - 3)    \n",
      "848                7        Germany                                          \n",
      "849                0      Argentina    Argentina win on penalties (2 - 4)    \n",
      "850                3    Netherlands                                          \n",
      "851                0      Argentina          Germany win after extra time    \n",
      "\n",
      "     Attendance  Half-time Home Goals  Half-time Away Goals  \\\n",
      "0        4444.0                     3                     0   \n",
      "1       18346.0                     2                     0   \n",
      "2       24059.0                     2                     0   \n",
      "3        2549.0                     1                     0   \n",
      "4       23409.0                     0                     0   \n",
      "..          ...                   ...                   ...   \n",
      "847     51179.0                     0                     0   \n",
      "848     58141.0                     0                     5   \n",
      "849     63267.0                     0                     0   \n",
      "850     68034.0                     0                     2   \n",
      "851     74738.0                     0                     0   \n",
      "\n",
      "                    Referee                  Assistant 1  \\\n",
      "0    LOMBARDI Domingo (URU)        CRISTOPHE Henry (BEL)   \n",
      "1         MACIAS Jose (ARG)     MATEUCCI Francisco (URU)   \n",
      "2       TEJADA Anibal (URU)      VALLARINO Ricardo (URU)   \n",
      "3     WARNKEN Alberto (CHI)          LANGENUS Jean (BEL)   \n",
      "4       REGO Gilberto (BRA)         SAUCEDO Ulises (BOL)   \n",
      "..                      ...                          ...   \n",
      "847   Ravshan IRMATOV (UZB)  RASULOV Abduxamidullo (UZB)   \n",
      "848   RODRIGUEZ Marco (MEX)      TORRENTERA Marvin (MEX)   \n",
      "849      C�neyt �AKIR (TUR)         DURAN Bahattin (TUR)   \n",
      "850   HAIMOUDI Djamel (ALG)         ACHIK Redouane (MAR)   \n",
      "851    Nicola RIZZOLI (ITA)        Renato FAVERANI (ITA)   \n",
      "\n",
      "                    Assistant 2  RoundID    MatchID Home Team Initials  \\\n",
      "0           REGO Gilberto (BRA)      201       1096                FRA   \n",
      "1         WARNKEN Alberto (CHI)      201       1090                USA   \n",
      "2           BALWAY Thomas (FRA)      201       1093                YUG   \n",
      "3      MATEUCCI Francisco (URU)      201       1098                ROU   \n",
      "4    RADULESCU Constantin (ROU)      201       1085                ARG   \n",
      "..                          ...      ...        ...                ...   \n",
      "847    KOCHKAROV Bakhadyr (KGZ)   255953  300186488                NED   \n",
      "848       QUINTERO Marcos (MEX)   255955  300186474                BRA   \n",
      "849           ONGUN Tarik (TUR)   255955  300186490                NED   \n",
      "850     ETCHIALI Abdelhak (ALG)   255957  300186502                BRA   \n",
      "851        Andrea STEFANI (ITA)   255959  300186501                GER   \n",
      "\n",
      "    Away Team Initials  \n",
      "0                  MEX  \n",
      "1                  BEL  \n",
      "2                  BRA  \n",
      "3                  PER  \n",
      "4                  FRA  \n",
      "..                 ...  \n",
      "847                CRC  \n",
      "848                GER  \n",
      "849                ARG  \n",
      "850                NED  \n",
      "851                ARG  \n",
      "\n",
      "[852 rows x 20 columns]\n"
     ]
    }
   ],
   "source": [
    "# Replace None with appropriate code\n",
    "\n",
    "# Import pandas using the standard alias\n",
    "import pandas  as pd\n",
    "\n",
    "# Load 'WorldCupMatches.csv' as a DataFrame\n",
    "df = pd.read_csv('WorldCupMatches.csv')\n",
    "print(df)"
   ]
  },
  {
   "cell_type": "markdown",
   "metadata": {},
   "source": [
    "## Common Methods and Attributes"
   ]
  },
  {
   "cell_type": "markdown",
   "metadata": {},
   "source": [
    "Use the correct method to display the **first 7 rows** of the dataset."
   ]
  },
  {
   "cell_type": "code",
   "execution_count": 4,
   "metadata": {},
   "outputs": [
    {
     "data": {
      "text/html": [
       "<div>\n",
       "<style scoped>\n",
       "    .dataframe tbody tr th:only-of-type {\n",
       "        vertical-align: middle;\n",
       "    }\n",
       "\n",
       "    .dataframe tbody tr th {\n",
       "        vertical-align: top;\n",
       "    }\n",
       "\n",
       "    .dataframe thead th {\n",
       "        text-align: right;\n",
       "    }\n",
       "</style>\n",
       "<table border=\"1\" class=\"dataframe\">\n",
       "  <thead>\n",
       "    <tr style=\"text-align: right;\">\n",
       "      <th></th>\n",
       "      <th>Year</th>\n",
       "      <th>Datetime</th>\n",
       "      <th>Stage</th>\n",
       "      <th>Stadium</th>\n",
       "      <th>City</th>\n",
       "      <th>Home Team Name</th>\n",
       "      <th>Home Team Goals</th>\n",
       "      <th>Away Team Goals</th>\n",
       "      <th>Away Team Name</th>\n",
       "      <th>Win conditions</th>\n",
       "      <th>Attendance</th>\n",
       "      <th>Half-time Home Goals</th>\n",
       "      <th>Half-time Away Goals</th>\n",
       "      <th>Referee</th>\n",
       "      <th>Assistant 1</th>\n",
       "      <th>Assistant 2</th>\n",
       "      <th>RoundID</th>\n",
       "      <th>MatchID</th>\n",
       "      <th>Home Team Initials</th>\n",
       "      <th>Away Team Initials</th>\n",
       "    </tr>\n",
       "  </thead>\n",
       "  <tbody>\n",
       "    <tr>\n",
       "      <th>0</th>\n",
       "      <td>1930</td>\n",
       "      <td>13 Jul 1930 - 15:00</td>\n",
       "      <td>Group 1</td>\n",
       "      <td>Pocitos</td>\n",
       "      <td>Montevideo</td>\n",
       "      <td>France</td>\n",
       "      <td>4</td>\n",
       "      <td>1</td>\n",
       "      <td>Mexico</td>\n",
       "      <td></td>\n",
       "      <td>4444.0</td>\n",
       "      <td>3</td>\n",
       "      <td>0</td>\n",
       "      <td>LOMBARDI Domingo (URU)</td>\n",
       "      <td>CRISTOPHE Henry (BEL)</td>\n",
       "      <td>REGO Gilberto (BRA)</td>\n",
       "      <td>201</td>\n",
       "      <td>1096</td>\n",
       "      <td>FRA</td>\n",
       "      <td>MEX</td>\n",
       "    </tr>\n",
       "    <tr>\n",
       "      <th>1</th>\n",
       "      <td>1930</td>\n",
       "      <td>13 Jul 1930 - 15:00</td>\n",
       "      <td>Group 4</td>\n",
       "      <td>Parque Central</td>\n",
       "      <td>Montevideo</td>\n",
       "      <td>USA</td>\n",
       "      <td>3</td>\n",
       "      <td>0</td>\n",
       "      <td>Belgium</td>\n",
       "      <td></td>\n",
       "      <td>18346.0</td>\n",
       "      <td>2</td>\n",
       "      <td>0</td>\n",
       "      <td>MACIAS Jose (ARG)</td>\n",
       "      <td>MATEUCCI Francisco (URU)</td>\n",
       "      <td>WARNKEN Alberto (CHI)</td>\n",
       "      <td>201</td>\n",
       "      <td>1090</td>\n",
       "      <td>USA</td>\n",
       "      <td>BEL</td>\n",
       "    </tr>\n",
       "    <tr>\n",
       "      <th>2</th>\n",
       "      <td>1930</td>\n",
       "      <td>14 Jul 1930 - 12:45</td>\n",
       "      <td>Group 2</td>\n",
       "      <td>Parque Central</td>\n",
       "      <td>Montevideo</td>\n",
       "      <td>Yugoslavia</td>\n",
       "      <td>2</td>\n",
       "      <td>1</td>\n",
       "      <td>Brazil</td>\n",
       "      <td></td>\n",
       "      <td>24059.0</td>\n",
       "      <td>2</td>\n",
       "      <td>0</td>\n",
       "      <td>TEJADA Anibal (URU)</td>\n",
       "      <td>VALLARINO Ricardo (URU)</td>\n",
       "      <td>BALWAY Thomas (FRA)</td>\n",
       "      <td>201</td>\n",
       "      <td>1093</td>\n",
       "      <td>YUG</td>\n",
       "      <td>BRA</td>\n",
       "    </tr>\n",
       "    <tr>\n",
       "      <th>3</th>\n",
       "      <td>1930</td>\n",
       "      <td>14 Jul 1930 - 14:50</td>\n",
       "      <td>Group 3</td>\n",
       "      <td>Pocitos</td>\n",
       "      <td>Montevideo</td>\n",
       "      <td>Romania</td>\n",
       "      <td>3</td>\n",
       "      <td>1</td>\n",
       "      <td>Peru</td>\n",
       "      <td></td>\n",
       "      <td>2549.0</td>\n",
       "      <td>1</td>\n",
       "      <td>0</td>\n",
       "      <td>WARNKEN Alberto (CHI)</td>\n",
       "      <td>LANGENUS Jean (BEL)</td>\n",
       "      <td>MATEUCCI Francisco (URU)</td>\n",
       "      <td>201</td>\n",
       "      <td>1098</td>\n",
       "      <td>ROU</td>\n",
       "      <td>PER</td>\n",
       "    </tr>\n",
       "    <tr>\n",
       "      <th>4</th>\n",
       "      <td>1930</td>\n",
       "      <td>15 Jul 1930 - 16:00</td>\n",
       "      <td>Group 1</td>\n",
       "      <td>Parque Central</td>\n",
       "      <td>Montevideo</td>\n",
       "      <td>Argentina</td>\n",
       "      <td>1</td>\n",
       "      <td>0</td>\n",
       "      <td>France</td>\n",
       "      <td></td>\n",
       "      <td>23409.0</td>\n",
       "      <td>0</td>\n",
       "      <td>0</td>\n",
       "      <td>REGO Gilberto (BRA)</td>\n",
       "      <td>SAUCEDO Ulises (BOL)</td>\n",
       "      <td>RADULESCU Constantin (ROU)</td>\n",
       "      <td>201</td>\n",
       "      <td>1085</td>\n",
       "      <td>ARG</td>\n",
       "      <td>FRA</td>\n",
       "    </tr>\n",
       "    <tr>\n",
       "      <th>5</th>\n",
       "      <td>1930</td>\n",
       "      <td>16 Jul 1930 - 14:45</td>\n",
       "      <td>Group 1</td>\n",
       "      <td>Parque Central</td>\n",
       "      <td>Montevideo</td>\n",
       "      <td>Chile</td>\n",
       "      <td>3</td>\n",
       "      <td>0</td>\n",
       "      <td>Mexico</td>\n",
       "      <td></td>\n",
       "      <td>9249.0</td>\n",
       "      <td>1</td>\n",
       "      <td>0</td>\n",
       "      <td>CRISTOPHE Henry (BEL)</td>\n",
       "      <td>APHESTEGUY Martin (URU)</td>\n",
       "      <td>LANGENUS Jean (BEL)</td>\n",
       "      <td>201</td>\n",
       "      <td>1095</td>\n",
       "      <td>CHI</td>\n",
       "      <td>MEX</td>\n",
       "    </tr>\n",
       "    <tr>\n",
       "      <th>6</th>\n",
       "      <td>1930</td>\n",
       "      <td>17 Jul 1930 - 12:45</td>\n",
       "      <td>Group 2</td>\n",
       "      <td>Parque Central</td>\n",
       "      <td>Montevideo</td>\n",
       "      <td>Yugoslavia</td>\n",
       "      <td>4</td>\n",
       "      <td>0</td>\n",
       "      <td>Bolivia</td>\n",
       "      <td></td>\n",
       "      <td>18306.0</td>\n",
       "      <td>0</td>\n",
       "      <td>0</td>\n",
       "      <td>MATEUCCI Francisco (URU)</td>\n",
       "      <td>LOMBARDI Domingo (URU)</td>\n",
       "      <td>WARNKEN Alberto (CHI)</td>\n",
       "      <td>201</td>\n",
       "      <td>1092</td>\n",
       "      <td>YUG</td>\n",
       "      <td>BOL</td>\n",
       "    </tr>\n",
       "  </tbody>\n",
       "</table>\n",
       "</div>"
      ],
      "text/plain": [
       "   Year              Datetime    Stage         Stadium         City  \\\n",
       "0  1930  13 Jul 1930 - 15:00   Group 1         Pocitos  Montevideo    \n",
       "1  1930  13 Jul 1930 - 15:00   Group 4  Parque Central  Montevideo    \n",
       "2  1930  14 Jul 1930 - 12:45   Group 2  Parque Central  Montevideo    \n",
       "3  1930  14 Jul 1930 - 14:50   Group 3         Pocitos  Montevideo    \n",
       "4  1930  15 Jul 1930 - 16:00   Group 1  Parque Central  Montevideo    \n",
       "5  1930  16 Jul 1930 - 14:45   Group 1  Parque Central  Montevideo    \n",
       "6  1930  17 Jul 1930 - 12:45   Group 2  Parque Central  Montevideo    \n",
       "\n",
       "  Home Team Name  Home Team Goals  Away Team Goals Away Team Name  \\\n",
       "0         France                4                1         Mexico   \n",
       "1            USA                3                0        Belgium   \n",
       "2     Yugoslavia                2                1         Brazil   \n",
       "3        Romania                3                1           Peru   \n",
       "4      Argentina                1                0         France   \n",
       "5          Chile                3                0         Mexico   \n",
       "6     Yugoslavia                4                0        Bolivia   \n",
       "\n",
       "  Win conditions  Attendance  Half-time Home Goals  Half-time Away Goals  \\\n",
       "0                     4444.0                     3                     0   \n",
       "1                    18346.0                     2                     0   \n",
       "2                    24059.0                     2                     0   \n",
       "3                     2549.0                     1                     0   \n",
       "4                    23409.0                     0                     0   \n",
       "5                     9249.0                     1                     0   \n",
       "6                    18306.0                     0                     0   \n",
       "\n",
       "                    Referee               Assistant 1  \\\n",
       "0    LOMBARDI Domingo (URU)     CRISTOPHE Henry (BEL)   \n",
       "1         MACIAS Jose (ARG)  MATEUCCI Francisco (URU)   \n",
       "2       TEJADA Anibal (URU)   VALLARINO Ricardo (URU)   \n",
       "3     WARNKEN Alberto (CHI)       LANGENUS Jean (BEL)   \n",
       "4       REGO Gilberto (BRA)      SAUCEDO Ulises (BOL)   \n",
       "5     CRISTOPHE Henry (BEL)   APHESTEGUY Martin (URU)   \n",
       "6  MATEUCCI Francisco (URU)    LOMBARDI Domingo (URU)   \n",
       "\n",
       "                  Assistant 2  RoundID  MatchID Home Team Initials  \\\n",
       "0         REGO Gilberto (BRA)      201     1096                FRA   \n",
       "1       WARNKEN Alberto (CHI)      201     1090                USA   \n",
       "2         BALWAY Thomas (FRA)      201     1093                YUG   \n",
       "3    MATEUCCI Francisco (URU)      201     1098                ROU   \n",
       "4  RADULESCU Constantin (ROU)      201     1085                ARG   \n",
       "5         LANGENUS Jean (BEL)      201     1095                CHI   \n",
       "6       WARNKEN Alberto (CHI)      201     1092                YUG   \n",
       "\n",
       "  Away Team Initials  \n",
       "0                MEX  \n",
       "1                BEL  \n",
       "2                BRA  \n",
       "3                PER  \n",
       "4                FRA  \n",
       "5                MEX  \n",
       "6                BOL  "
      ]
     },
     "execution_count": 4,
     "metadata": {},
     "output_type": "execute_result"
    }
   ],
   "source": [
    "df.head(7)"
   ]
  },
  {
   "cell_type": "markdown",
   "metadata": {},
   "source": [
    "Display the **last 3 rows** of the dataset."
   ]
  },
  {
   "cell_type": "code",
   "execution_count": 7,
   "metadata": {},
   "outputs": [
    {
     "data": {
      "text/html": [
       "<div>\n",
       "<style scoped>\n",
       "    .dataframe tbody tr th:only-of-type {\n",
       "        vertical-align: middle;\n",
       "    }\n",
       "\n",
       "    .dataframe tbody tr th {\n",
       "        vertical-align: top;\n",
       "    }\n",
       "\n",
       "    .dataframe thead th {\n",
       "        text-align: right;\n",
       "    }\n",
       "</style>\n",
       "<table border=\"1\" class=\"dataframe\">\n",
       "  <thead>\n",
       "    <tr style=\"text-align: right;\">\n",
       "      <th></th>\n",
       "      <th>Year</th>\n",
       "      <th>Datetime</th>\n",
       "      <th>Stage</th>\n",
       "      <th>Stadium</th>\n",
       "      <th>City</th>\n",
       "      <th>Home Team Name</th>\n",
       "      <th>Home Team Goals</th>\n",
       "      <th>Away Team Goals</th>\n",
       "      <th>Away Team Name</th>\n",
       "      <th>Win conditions</th>\n",
       "      <th>Attendance</th>\n",
       "      <th>Half-time Home Goals</th>\n",
       "      <th>Half-time Away Goals</th>\n",
       "      <th>Referee</th>\n",
       "      <th>Assistant 1</th>\n",
       "      <th>Assistant 2</th>\n",
       "      <th>RoundID</th>\n",
       "      <th>MatchID</th>\n",
       "      <th>Home Team Initials</th>\n",
       "      <th>Away Team Initials</th>\n",
       "    </tr>\n",
       "  </thead>\n",
       "  <tbody>\n",
       "    <tr>\n",
       "      <th>849</th>\n",
       "      <td>2014</td>\n",
       "      <td>09 Jul 2014 - 17:00</td>\n",
       "      <td>Semi-finals</td>\n",
       "      <td>Arena de Sao Paulo</td>\n",
       "      <td>Sao Paulo</td>\n",
       "      <td>Netherlands</td>\n",
       "      <td>0</td>\n",
       "      <td>0</td>\n",
       "      <td>Argentina</td>\n",
       "      <td>Argentina win on penalties (2 - 4)</td>\n",
       "      <td>63267.0</td>\n",
       "      <td>0</td>\n",
       "      <td>0</td>\n",
       "      <td>C�neyt �AKIR (TUR)</td>\n",
       "      <td>DURAN Bahattin (TUR)</td>\n",
       "      <td>ONGUN Tarik (TUR)</td>\n",
       "      <td>255955</td>\n",
       "      <td>300186490</td>\n",
       "      <td>NED</td>\n",
       "      <td>ARG</td>\n",
       "    </tr>\n",
       "    <tr>\n",
       "      <th>850</th>\n",
       "      <td>2014</td>\n",
       "      <td>12 Jul 2014 - 17:00</td>\n",
       "      <td>Play-off for third place</td>\n",
       "      <td>Estadio Nacional</td>\n",
       "      <td>Brasilia</td>\n",
       "      <td>Brazil</td>\n",
       "      <td>0</td>\n",
       "      <td>3</td>\n",
       "      <td>Netherlands</td>\n",
       "      <td></td>\n",
       "      <td>68034.0</td>\n",
       "      <td>0</td>\n",
       "      <td>2</td>\n",
       "      <td>HAIMOUDI Djamel (ALG)</td>\n",
       "      <td>ACHIK Redouane (MAR)</td>\n",
       "      <td>ETCHIALI Abdelhak (ALG)</td>\n",
       "      <td>255957</td>\n",
       "      <td>300186502</td>\n",
       "      <td>BRA</td>\n",
       "      <td>NED</td>\n",
       "    </tr>\n",
       "    <tr>\n",
       "      <th>851</th>\n",
       "      <td>2014</td>\n",
       "      <td>13 Jul 2014 - 16:00</td>\n",
       "      <td>Final</td>\n",
       "      <td>Estadio do Maracana</td>\n",
       "      <td>Rio De Janeiro</td>\n",
       "      <td>Germany</td>\n",
       "      <td>1</td>\n",
       "      <td>0</td>\n",
       "      <td>Argentina</td>\n",
       "      <td>Germany win after extra time</td>\n",
       "      <td>74738.0</td>\n",
       "      <td>0</td>\n",
       "      <td>0</td>\n",
       "      <td>Nicola RIZZOLI (ITA)</td>\n",
       "      <td>Renato FAVERANI (ITA)</td>\n",
       "      <td>Andrea STEFANI (ITA)</td>\n",
       "      <td>255959</td>\n",
       "      <td>300186501</td>\n",
       "      <td>GER</td>\n",
       "      <td>ARG</td>\n",
       "    </tr>\n",
       "  </tbody>\n",
       "</table>\n",
       "</div>"
      ],
      "text/plain": [
       "     Year              Datetime                     Stage  \\\n",
       "849  2014  09 Jul 2014 - 17:00                Semi-finals   \n",
       "850  2014  12 Jul 2014 - 17:00   Play-off for third place   \n",
       "851  2014  13 Jul 2014 - 16:00                      Final   \n",
       "\n",
       "                 Stadium             City Home Team Name  Home Team Goals  \\\n",
       "849   Arena de Sao Paulo       Sao Paulo     Netherlands                0   \n",
       "850     Estadio Nacional        Brasilia          Brazil                0   \n",
       "851  Estadio do Maracana  Rio De Janeiro         Germany                1   \n",
       "\n",
       "     Away Team Goals Away Team Name                       Win conditions  \\\n",
       "849                0      Argentina  Argentina win on penalties (2 - 4)    \n",
       "850                3    Netherlands                                        \n",
       "851                0      Argentina        Germany win after extra time    \n",
       "\n",
       "     Attendance  Half-time Home Goals  Half-time Away Goals  \\\n",
       "849     63267.0                     0                     0   \n",
       "850     68034.0                     0                     2   \n",
       "851     74738.0                     0                     0   \n",
       "\n",
       "                   Referee            Assistant 1              Assistant 2  \\\n",
       "849     C�neyt �AKIR (TUR)   DURAN Bahattin (TUR)        ONGUN Tarik (TUR)   \n",
       "850  HAIMOUDI Djamel (ALG)   ACHIK Redouane (MAR)  ETCHIALI Abdelhak (ALG)   \n",
       "851   Nicola RIZZOLI (ITA)  Renato FAVERANI (ITA)     Andrea STEFANI (ITA)   \n",
       "\n",
       "     RoundID    MatchID Home Team Initials Away Team Initials  \n",
       "849   255955  300186490                NED                ARG  \n",
       "850   255957  300186502                BRA                NED  \n",
       "851   255959  300186501                GER                ARG  "
      ]
     },
     "execution_count": 7,
     "metadata": {},
     "output_type": "execute_result"
    }
   ],
   "source": [
    " df.tail(3)\n",
    " "
   ]
  },
  {
   "cell_type": "markdown",
   "metadata": {},
   "source": [
    "Get a concise summary of the data using `.info()`. "
   ]
  },
  {
   "cell_type": "code",
   "execution_count": 9,
   "metadata": {},
   "outputs": [
    {
     "name": "stdout",
     "output_type": "stream",
     "text": [
      "<class 'pandas.core.frame.DataFrame'>\n",
      "RangeIndex: 852 entries, 0 to 851\n",
      "Data columns (total 20 columns):\n",
      " #   Column                Non-Null Count  Dtype  \n",
      "---  ------                --------------  -----  \n",
      " 0   Year                  852 non-null    int64  \n",
      " 1   Datetime              852 non-null    object \n",
      " 2   Stage                 852 non-null    object \n",
      " 3   Stadium               852 non-null    object \n",
      " 4   City                  852 non-null    object \n",
      " 5   Home Team Name        852 non-null    object \n",
      " 6   Home Team Goals       852 non-null    int64  \n",
      " 7   Away Team Goals       852 non-null    int64  \n",
      " 8   Away Team Name        852 non-null    object \n",
      " 9   Win conditions        852 non-null    object \n",
      " 10  Attendance            850 non-null    float64\n",
      " 11  Half-time Home Goals  852 non-null    int64  \n",
      " 12  Half-time Away Goals  852 non-null    int64  \n",
      " 13  Referee               852 non-null    object \n",
      " 14  Assistant 1           852 non-null    object \n",
      " 15  Assistant 2           852 non-null    object \n",
      " 16  RoundID               852 non-null    int64  \n",
      " 17  MatchID               852 non-null    int64  \n",
      " 18  Home Team Initials    852 non-null    object \n",
      " 19  Away Team Initials    852 non-null    object \n",
      "dtypes: float64(1), int64(7), object(12)\n",
      "memory usage: 133.2+ KB\n"
     ]
    }
   ],
   "source": [
    "# Your c\n",
    "df.info()"
   ]
  },
  {
   "cell_type": "markdown",
   "metadata": {},
   "source": [
    "Obtain a tuple representing the **number of rows and number of columns**."
   ]
  },
  {
   "cell_type": "code",
   "execution_count": 10,
   "metadata": {},
   "outputs": [
    {
     "data": {
      "text/plain": [
       "RangeIndex(start=0, stop=852, step=1)"
      ]
     },
     "execution_count": 10,
     "metadata": {},
     "output_type": "execute_result"
    }
   ],
   "source": [
    "# Your code here\n",
    "df.index"
   ]
  },
  {
   "cell_type": "markdown",
   "metadata": {},
   "source": [
    "Use the appropriate attribute to get the **column names**."
   ]
  },
  {
   "cell_type": "code",
   "execution_count": 11,
   "metadata": {},
   "outputs": [
    {
     "data": {
      "text/plain": [
       "Index(['Year', 'Datetime', 'Stage', 'Stadium', 'City', 'Home Team Name',\n",
       "       'Home Team Goals', 'Away Team Goals', 'Away Team Name',\n",
       "       'Win conditions', 'Attendance', 'Half-time Home Goals',\n",
       "       'Half-time Away Goals', 'Referee', 'Assistant 1', 'Assistant 2',\n",
       "       'RoundID', 'MatchID', 'Home Team Initials', 'Away Team Initials'],\n",
       "      dtype='object')"
      ]
     },
     "execution_count": 11,
     "metadata": {},
     "output_type": "execute_result"
    }
   ],
   "source": [
    "# Your code here\n",
    "df.columns"
   ]
  },
  {
   "cell_type": "markdown",
   "metadata": {},
   "source": [
    "## Selecting DataFrame Information"
   ]
  },
  {
   "cell_type": "markdown",
   "metadata": {},
   "source": [
    "When looking at the DataFrame's `.head()` and `.tail()`, you might have noticed that the games are structured chronologically in the DataFrame.\n",
    "\n",
    "Use the right selection method to display all the information from the 3rd to the 5th game (i.e. **select rows 3 through 5 inclusive**)."
   ]
  },
  {
   "cell_type": "code",
   "execution_count": 12,
   "metadata": {
    "scrolled": true
   },
   "outputs": [
    {
     "data": {
      "text/html": [
       "<div>\n",
       "<style scoped>\n",
       "    .dataframe tbody tr th:only-of-type {\n",
       "        vertical-align: middle;\n",
       "    }\n",
       "\n",
       "    .dataframe tbody tr th {\n",
       "        vertical-align: top;\n",
       "    }\n",
       "\n",
       "    .dataframe thead th {\n",
       "        text-align: right;\n",
       "    }\n",
       "</style>\n",
       "<table border=\"1\" class=\"dataframe\">\n",
       "  <thead>\n",
       "    <tr style=\"text-align: right;\">\n",
       "      <th></th>\n",
       "      <th>Year</th>\n",
       "      <th>Datetime</th>\n",
       "      <th>Stage</th>\n",
       "      <th>Stadium</th>\n",
       "      <th>City</th>\n",
       "      <th>Home Team Name</th>\n",
       "      <th>Home Team Goals</th>\n",
       "      <th>Away Team Goals</th>\n",
       "      <th>Away Team Name</th>\n",
       "      <th>Win conditions</th>\n",
       "      <th>Attendance</th>\n",
       "      <th>Half-time Home Goals</th>\n",
       "      <th>Half-time Away Goals</th>\n",
       "      <th>Referee</th>\n",
       "      <th>Assistant 1</th>\n",
       "      <th>Assistant 2</th>\n",
       "      <th>RoundID</th>\n",
       "      <th>MatchID</th>\n",
       "      <th>Home Team Initials</th>\n",
       "      <th>Away Team Initials</th>\n",
       "    </tr>\n",
       "  </thead>\n",
       "  <tbody>\n",
       "    <tr>\n",
       "      <th>3</th>\n",
       "      <td>1930</td>\n",
       "      <td>14 Jul 1930 - 14:50</td>\n",
       "      <td>Group 3</td>\n",
       "      <td>Pocitos</td>\n",
       "      <td>Montevideo</td>\n",
       "      <td>Romania</td>\n",
       "      <td>3</td>\n",
       "      <td>1</td>\n",
       "      <td>Peru</td>\n",
       "      <td></td>\n",
       "      <td>2549.0</td>\n",
       "      <td>1</td>\n",
       "      <td>0</td>\n",
       "      <td>WARNKEN Alberto (CHI)</td>\n",
       "      <td>LANGENUS Jean (BEL)</td>\n",
       "      <td>MATEUCCI Francisco (URU)</td>\n",
       "      <td>201</td>\n",
       "      <td>1098</td>\n",
       "      <td>ROU</td>\n",
       "      <td>PER</td>\n",
       "    </tr>\n",
       "    <tr>\n",
       "      <th>4</th>\n",
       "      <td>1930</td>\n",
       "      <td>15 Jul 1930 - 16:00</td>\n",
       "      <td>Group 1</td>\n",
       "      <td>Parque Central</td>\n",
       "      <td>Montevideo</td>\n",
       "      <td>Argentina</td>\n",
       "      <td>1</td>\n",
       "      <td>0</td>\n",
       "      <td>France</td>\n",
       "      <td></td>\n",
       "      <td>23409.0</td>\n",
       "      <td>0</td>\n",
       "      <td>0</td>\n",
       "      <td>REGO Gilberto (BRA)</td>\n",
       "      <td>SAUCEDO Ulises (BOL)</td>\n",
       "      <td>RADULESCU Constantin (ROU)</td>\n",
       "      <td>201</td>\n",
       "      <td>1085</td>\n",
       "      <td>ARG</td>\n",
       "      <td>FRA</td>\n",
       "    </tr>\n",
       "    <tr>\n",
       "      <th>5</th>\n",
       "      <td>1930</td>\n",
       "      <td>16 Jul 1930 - 14:45</td>\n",
       "      <td>Group 1</td>\n",
       "      <td>Parque Central</td>\n",
       "      <td>Montevideo</td>\n",
       "      <td>Chile</td>\n",
       "      <td>3</td>\n",
       "      <td>0</td>\n",
       "      <td>Mexico</td>\n",
       "      <td></td>\n",
       "      <td>9249.0</td>\n",
       "      <td>1</td>\n",
       "      <td>0</td>\n",
       "      <td>CRISTOPHE Henry (BEL)</td>\n",
       "      <td>APHESTEGUY Martin (URU)</td>\n",
       "      <td>LANGENUS Jean (BEL)</td>\n",
       "      <td>201</td>\n",
       "      <td>1095</td>\n",
       "      <td>CHI</td>\n",
       "      <td>MEX</td>\n",
       "    </tr>\n",
       "  </tbody>\n",
       "</table>\n",
       "</div>"
      ],
      "text/plain": [
       "   Year              Datetime    Stage         Stadium         City  \\\n",
       "3  1930  14 Jul 1930 - 14:50   Group 3         Pocitos  Montevideo    \n",
       "4  1930  15 Jul 1930 - 16:00   Group 1  Parque Central  Montevideo    \n",
       "5  1930  16 Jul 1930 - 14:45   Group 1  Parque Central  Montevideo    \n",
       "\n",
       "  Home Team Name  Home Team Goals  Away Team Goals Away Team Name  \\\n",
       "3        Romania                3                1           Peru   \n",
       "4      Argentina                1                0         France   \n",
       "5          Chile                3                0         Mexico   \n",
       "\n",
       "  Win conditions  Attendance  Half-time Home Goals  Half-time Away Goals  \\\n",
       "3                     2549.0                     1                     0   \n",
       "4                    23409.0                     0                     0   \n",
       "5                     9249.0                     1                     0   \n",
       "\n",
       "                 Referee              Assistant 1                 Assistant 2  \\\n",
       "3  WARNKEN Alberto (CHI)      LANGENUS Jean (BEL)    MATEUCCI Francisco (URU)   \n",
       "4    REGO Gilberto (BRA)     SAUCEDO Ulises (BOL)  RADULESCU Constantin (ROU)   \n",
       "5  CRISTOPHE Henry (BEL)  APHESTEGUY Martin (URU)         LANGENUS Jean (BEL)   \n",
       "\n",
       "   RoundID  MatchID Home Team Initials Away Team Initials  \n",
       "3      201     1098                ROU                PER  \n",
       "4      201     1085                ARG                FRA  \n",
       "5      201     1095                CHI                MEX  "
      ]
     },
     "execution_count": 12,
     "metadata": {},
     "output_type": "execute_result"
    }
   ],
   "source": [
    "# Your code here\n",
    "df.iloc[3:6]"
   ]
  },
  {
   "cell_type": "markdown",
   "metadata": {},
   "source": [
    "Now, display the info from **game 5-9** (inclusive), but **only the `\"Home Team Name\"` and the `\"Away Team Name\"` columns**."
   ]
  },
  {
   "cell_type": "code",
   "execution_count": 69,
   "metadata": {},
   "outputs": [
    {
     "data": {
      "text/html": [
       "<div>\n",
       "<style scoped>\n",
       "    .dataframe tbody tr th:only-of-type {\n",
       "        vertical-align: middle;\n",
       "    }\n",
       "\n",
       "    .dataframe tbody tr th {\n",
       "        vertical-align: top;\n",
       "    }\n",
       "\n",
       "    .dataframe thead th {\n",
       "        text-align: right;\n",
       "    }\n",
       "</style>\n",
       "<table border=\"1\" class=\"dataframe\">\n",
       "  <thead>\n",
       "    <tr style=\"text-align: right;\">\n",
       "      <th></th>\n",
       "      <th>Home Team Name</th>\n",
       "      <th>Away Team Name</th>\n",
       "    </tr>\n",
       "  </thead>\n",
       "  <tbody>\n",
       "    <tr>\n",
       "      <th>0</th>\n",
       "      <td>France</td>\n",
       "      <td>Mexico</td>\n",
       "    </tr>\n",
       "    <tr>\n",
       "      <th>1</th>\n",
       "      <td>USA</td>\n",
       "      <td>Belgium</td>\n",
       "    </tr>\n",
       "    <tr>\n",
       "      <th>2</th>\n",
       "      <td>Yugoslavia</td>\n",
       "      <td>Brazil</td>\n",
       "    </tr>\n",
       "    <tr>\n",
       "      <th>3</th>\n",
       "      <td>Romania</td>\n",
       "      <td>Peru</td>\n",
       "    </tr>\n",
       "    <tr>\n",
       "      <th>4</th>\n",
       "      <td>Argentina</td>\n",
       "      <td>France</td>\n",
       "    </tr>\n",
       "    <tr>\n",
       "      <th>...</th>\n",
       "      <td>...</td>\n",
       "      <td>...</td>\n",
       "    </tr>\n",
       "    <tr>\n",
       "      <th>847</th>\n",
       "      <td>Netherlands</td>\n",
       "      <td>Costa Rica</td>\n",
       "    </tr>\n",
       "    <tr>\n",
       "      <th>848</th>\n",
       "      <td>Brazil</td>\n",
       "      <td>Germany</td>\n",
       "    </tr>\n",
       "    <tr>\n",
       "      <th>849</th>\n",
       "      <td>Netherlands</td>\n",
       "      <td>Argentina</td>\n",
       "    </tr>\n",
       "    <tr>\n",
       "      <th>850</th>\n",
       "      <td>Brazil</td>\n",
       "      <td>Netherlands</td>\n",
       "    </tr>\n",
       "    <tr>\n",
       "      <th>851</th>\n",
       "      <td>Germany</td>\n",
       "      <td>Argentina</td>\n",
       "    </tr>\n",
       "  </tbody>\n",
       "</table>\n",
       "<p>852 rows × 2 columns</p>\n",
       "</div>"
      ],
      "text/plain": [
       "    Home Team Name Away Team Name\n",
       "0           France         Mexico\n",
       "1              USA        Belgium\n",
       "2       Yugoslavia         Brazil\n",
       "3          Romania           Peru\n",
       "4        Argentina         France\n",
       "..             ...            ...\n",
       "847    Netherlands     Costa Rica\n",
       "848         Brazil        Germany\n",
       "849    Netherlands      Argentina\n",
       "850         Brazil    Netherlands\n",
       "851        Germany      Argentina\n",
       "\n",
       "[852 rows x 2 columns]"
      ]
     },
     "execution_count": 69,
     "metadata": {},
     "output_type": "execute_result"
    }
   ],
   "source": [
    "# Your code here\n",
    "df.loc[:, [\"Home Team Name\", \"Away Team Name\"]]"
   ]
  },
  {
   "cell_type": "markdown",
   "metadata": {},
   "source": [
    "Next, we'd like the information on all the games played in **Group 3** for the **1950** World Cup."
   ]
  },
  {
   "cell_type": "markdown",
   "metadata": {},
   "source": [
    "Hint: You can combine conditions like this:\n",
    "\n",
    "`df[(condition1) | (condition2)]`  -> Returns rows where either condition is true\n",
    "\n",
    "`df[(condition1) & (condition2)]`  -> Returns rows where both conditions are true"
   ]
  },
  {
   "cell_type": "code",
   "execution_count": 31,
   "metadata": {},
   "outputs": [
    {
     "name": "stdout",
     "output_type": "stream",
     "text": [
      "    Year              Datetime    Stage           Stadium        City  \\\n",
      "56  1950  25 Jun 1950 - 15:00   Group 3          Pacaembu  Sao Paulo    \n",
      "61  1950  29 Jun 1950 - 15:30   Group 3  Durival de Brito   Curitiba    \n",
      "65  1950  02 Jul 1950 - 15:00   Group 3          Pacaembu  Sao Paulo    \n",
      "\n",
      "   Home Team Name  Home Team Goals  Away Team Goals Away Team Name  \\\n",
      "56         Sweden                3                2          Italy   \n",
      "61         Sweden                2                2       Paraguay   \n",
      "65          Italy                2                0       Paraguay   \n",
      "\n",
      "   Win conditions  Attendance  Half-time Home Goals  Half-time Away Goals  \\\n",
      "56                    36502.0                     2                     1   \n",
      "61                     7903.0                     2                     1   \n",
      "65                    25811.0                     1                     0   \n",
      "\n",
      "                  Referee             Assistant 1                Assistant 2  \\\n",
      "56        LUTZ Jean (SUI)     BERANEK Alois (AUT)        TEJADA Carlos (MEX)   \n",
      "61  MITCHELL Robert (SCO)       LEMESIC Leo (YUG)     GARCIA Prudencio (USA)   \n",
      "65     ELLIS Arthur (ENG)  GARCIA Prudencio (USA)  DE LA SALLE Charles (FRA)   \n",
      "\n",
      "    RoundID  MatchID Home Team Initials Away Team Initials  \n",
      "56      208     1219                SWE                ITA  \n",
      "61      208     1228                SWE                PAR  \n",
      "65      208     1218                ITA                PAR  \n"
     ]
    }
   ],
   "source": [
    "# Your code here\n",
    "group_3_1950 = df[(df[\"Year\"] == 1950) & (df[\"Stage\"] == \"Group 3\")]\n",
    "\n",
    "# Display the result\n",
    "print(group_3_1950)"
   ]
  },
  {
   "cell_type": "markdown",
   "metadata": {},
   "source": [
    "Let's repeat the command above, but this time display **only the attendance column** for the Group 3 games. "
   ]
  },
  {
   "cell_type": "code",
   "execution_count": 30,
   "metadata": {},
   "outputs": [
    {
     "data": {
      "text/plain": [
       "56    36502.0\n",
       "61     7903.0\n",
       "65    25811.0\n",
       "Name: Attendance, dtype: float64"
      ]
     },
     "execution_count": 30,
     "metadata": {},
     "output_type": "execute_result"
    }
   ],
   "source": [
    "# Your code here\n",
    "group_3_1950_attendance = df[(df[\"Year\"] == 1950) & (df[\"Stage\"] == \"Group 3\")][\"Attendance\"]\n",
    "group_3_1950_attendance\n"
   ]
  },
  {
   "cell_type": "markdown",
   "metadata": {},
   "source": [
    "Throughout the entire history of the World Cup as recorded in this dataset, **how many home games were played by the Netherlands**?\n",
    "\n",
    "(Remember that you can use the `len()` built-in function to find the number of rows in a DataFrame.)"
   ]
  },
  {
   "cell_type": "code",
   "execution_count": 33,
   "metadata": {},
   "outputs": [
    {
     "name": "stdout",
     "output_type": "stream",
     "text": [
      "32\n"
     ]
    }
   ],
   "source": [
    "# Your code here\n",
    "home_games_netherlands=df[df[\"Home Team Name\"] == \"Netherlands\"]\n",
    "print(len(home_games_netherlands))\n",
    "\n"
   ]
  },
  {
   "cell_type": "markdown",
   "metadata": {},
   "source": [
    "**How many games were played by the Netherlands in total**?"
   ]
  },
  {
   "cell_type": "code",
   "execution_count": 37,
   "metadata": {},
   "outputs": [
    {
     "data": {
      "text/plain": [
       "54"
      ]
     },
     "execution_count": 37,
     "metadata": {},
     "output_type": "execute_result"
    }
   ],
   "source": [
    "# Your code here\n",
    "total_games_played_by_netherlands=df[(df[\"Home Team Name\"] == \"Netherlands\")| (df[\"Away Team Name\"]==\"Netherlands\")]\n",
    "len(total_games_played_by_netherlands)"
   ]
  },
  {
   "cell_type": "markdown",
   "metadata": {},
   "source": [
    "Next, let's try and figure out **how many games the USA played in the 2014 World Cup**."
   ]
  },
  {
   "cell_type": "code",
   "execution_count": 40,
   "metadata": {},
   "outputs": [
    {
     "name": "stdout",
     "output_type": "stream",
     "text": [
      "5\n"
     ]
    }
   ],
   "source": [
    "# Your code here\n",
    "#total_games_played_by_usa-2014=df[(df[\"Home Team Name\"] == \"USA\")| (df[\"Away Team Name\"]==\"USA\")&(df[\"year\"]==2014)]\n",
    "usa_games_2014 = df[(df[\"Year\"] == 2014) & ((df[\"Home Team Name\"] == \"USA\") | (df[\"Away Team Name\"] == \"USA\"))]\n",
    "print(len(usa_games_2014))"
   ]
  },
  {
   "cell_type": "markdown",
   "metadata": {},
   "source": [
    "Now, let's try to find out **how many countries participated in the 1986 World Cup**."
   ]
  },
  {
   "cell_type": "markdown",
   "metadata": {},
   "source": [
    "Hint 1: As a first step, create a new dataset that only contains games in that year.\n",
    "\n",
    "Hint 2: Make sure you don't end up with duplicate country names. Consider using `set()` or `.unique()`."
   ]
  },
  {
   "cell_type": "code",
   "execution_count": 45,
   "metadata": {
    "scrolled": true
   },
   "outputs": [
    {
     "data": {
      "text/plain": [
       "24"
      ]
     },
     "execution_count": 45,
     "metadata": {},
     "output_type": "execute_result"
    }
   ],
   "source": [
    "# Your code here\n",
    "#countries_1986_worldcup=df[(df[\"year\"]==1986) & (df[\"Home Team Name\"])|(df[\"Away Team Name\"])] the correct version of this code is\n",
    "#this countries_1986_worldcup = df[(df[\"Year\"] == 1986) & ((df[\"Home Team Name\"].notnull()) | (df[\"Away Team Name\"].notnull()))]\n",
    "#alterbnatively this works\n",
    "game_year_1986=df[df[\"Year\"]==1986]\n",
    "home_team_1986=game_year_1986[\"Home Team Name\"].unique()\n",
    "away_team_1986=game_year_1986[\"Away Team Name\"].unique()\n",
    "total_no_countries_1986=set(home_team_1986).union (set(away_team_1986))\n",
    "len(total_no_countries_1986)\n"
   ]
  },
  {
   "cell_type": "markdown",
   "metadata": {},
   "source": [
    "## Changing Values and Creating New Columns"
   ]
  },
  {
   "cell_type": "markdown",
   "metadata": {},
   "source": [
    "In World Cup history, **how many matches had 5 goals or more in total**? Create a column `\"Total Goals\"` to answer this question."
   ]
  },
  {
   "cell_type": "code",
   "execution_count": 47,
   "metadata": {},
   "outputs": [
    {
     "name": "stdout",
     "output_type": "stream",
     "text": [
      "Number of matches with 5 or more goals: 147\n"
     ]
    }
   ],
   "source": [
    "# Your code here\n",
    "#get home team goals \n",
    "df[\"Total Goals\"] = df[\"Home Team Goals\"] + df[\"Away Team Goals\"]\n",
    "\n",
    "# Filter for matches with 5 or more total goals\n",
    "matches_with_5_goals = df[df[\"Total Goals\"] >= 5]\n",
    "\n",
    "# Count the number of such matches\n",
    "number_of_matches_with_5_goals = len(matches_with_5_goals)\n",
    "\n",
    "# Display the result\n",
    "print(f\"Number of matches with 5 or more goals: {number_of_matches_with_5_goals}\")\n"
   ]
  },
  {
   "cell_type": "markdown",
   "metadata": {},
   "source": [
    "Now **create a new column `\"Half-time Goals\"`** in `df` that includes both home and away values."
   ]
  },
  {
   "cell_type": "code",
   "execution_count": 56,
   "metadata": {},
   "outputs": [],
   "source": [
    "# Your code here\n",
    "# Create a new column \"Half-time Goals\"\n",
    "df[\"Half-time Goals\"] = df[\"Half-time Home Goals\"] + df[\"Half-time Away Goals\"]\n"
   ]
  },
  {
   "cell_type": "code",
   "execution_count": 57,
   "metadata": {},
   "outputs": [
    {
     "data": {
      "text/plain": [
       "Index(['Year', 'Datetime', 'Stage', 'Stadium', 'City', 'Home Team Name',\n",
       "       'Home Team Goals', 'Away Team Goals', 'Away Team Name',\n",
       "       'Win conditions', 'Attendance', 'Half-time Home Goals',\n",
       "       'Half-time Away Goals', 'Referee', 'Assistant 1', 'Assistant 2',\n",
       "       'RoundID', 'MatchID', 'Home Team Initials', 'Away Team Initials',\n",
       "       'Total Goals', 'Half-time Goals'],\n",
       "      dtype='object')"
      ]
     },
     "execution_count": 57,
     "metadata": {},
     "output_type": "execute_result"
    }
   ],
   "source": [
    "# Run this cell without changes to see your new column\n",
    "df.columns"
   ]
  },
  {
   "cell_type": "markdown",
   "metadata": {},
   "source": [
    "Run the code below. You'll notice that for Korea, there are records for both North-Korea (Korea DPR) and South-Korea (Korea Republic). "
   ]
  },
  {
   "cell_type": "code",
   "execution_count": 58,
   "metadata": {},
   "outputs": [
    {
     "data": {
      "text/plain": [
       "179         Korea DPR\n",
       "187         Korea DPR\n",
       "374    Korea Republic\n",
       "386    Korea Republic\n",
       "434    Korea Republic\n",
       "444    Korea Republic\n",
       "480    Korea Republic\n",
       "524    Korea Republic\n",
       "593    Korea Republic\n",
       "609    Korea Republic\n",
       "635    Korea Republic\n",
       "642    Korea Republic\n",
       "655    Korea Republic\n",
       "710    Korea Republic\n",
       "753         Korea DPR\n",
       "802    Korea Republic\n",
       "818    Korea Republic\n",
       "Name: Home Team Name, dtype: object"
      ]
     },
     "execution_count": 58,
     "metadata": {},
     "output_type": "execute_result"
    }
   ],
   "source": [
    "# Run this cell without changes\n",
    "\n",
    "# Display all records containing the string 'Korea'\n",
    "df.loc[df['Home Team Name'].str.contains('Korea'), 'Home Team Name']"
   ]
  },
  {
   "cell_type": "markdown",
   "metadata": {},
   "source": [
    "Imagine that, for some reason, we simply want Korea listed as one entry, so we want to replace every \"Home Team Name\" and \"Away Team Name\" entry that contains \"Korea\" to simply \"Korea\". In the same way, we want to change the columns \"Home Team Initials\" and \"Away Team Initials\" to NSK (North & South Korea) instead of \"KOR\" and \"PRK\". "
   ]
  },
  {
   "cell_type": "code",
   "execution_count": 61,
   "metadata": {},
   "outputs": [],
   "source": [
    "# Update the 'Home Team Name' and 'Home Team Initials' columns \n",
    "# Replace \"Home Team Name\" and \"Away Team Name\" entries that contain \"Korea\" with \"Korea\"\n",
    "# Replace entries in \"Home Team Name\" and \"Away Team Name\" that contain \"Korea\" with \"Korea\"\n",
    "df.loc[df[\"Home Team Name\"].str.contains(\"Korea\", na=False), \"Home Team Name\"] = \"Korea\"\n",
    "df.loc[df[\"Away Team Name\"].str.contains(\"Korea\", na=False), \"Away Team Name\"] = \"Korea\"\n",
    "\n",
    "# Replace \"Home Team Initials\" and \"Away Team Initials\" for Korea teams\n",
    "df.loc[df[\"Home Team Initials\"].isin([\"KOR\", \"PRK\"]), \"Home Team Initials\"] = \"NSK\"\n",
    "df.loc[df[\"Away Team Initials\"].isin([\"KOR\", \"PRK\"]), \"Away Team Initials\"] = \"NSK\"\n",
    "\n",
    "\n"
   ]
  },
  {
   "cell_type": "markdown",
   "metadata": {},
   "source": [
    "Make sure to verify your answer!"
   ]
  },
  {
   "cell_type": "code",
   "execution_count": 70,
   "metadata": {},
   "outputs": [
    {
     "data": {
      "text/plain": [
       "<bound method DataFrame.info of      Year              Datetime                     Stage  \\\n",
       "0    1930  13 Jul 1930 - 15:00                    Group 1   \n",
       "1    1930  13 Jul 1930 - 15:00                    Group 4   \n",
       "2    1930  14 Jul 1930 - 12:45                    Group 2   \n",
       "3    1930  14 Jul 1930 - 14:50                    Group 3   \n",
       "4    1930  15 Jul 1930 - 16:00                    Group 1   \n",
       "..    ...                   ...                       ...   \n",
       "847  2014  05 Jul 2014 - 17:00             Quarter-finals   \n",
       "848  2014  08 Jul 2014 - 17:00                Semi-finals   \n",
       "849  2014  09 Jul 2014 - 17:00                Semi-finals   \n",
       "850  2014  12 Jul 2014 - 17:00   Play-off for third place   \n",
       "851  2014  13 Jul 2014 - 16:00                      Final   \n",
       "\n",
       "                 Stadium             City Home Team Name  Home Team Goals  \\\n",
       "0                Pocitos      Montevideo          France                4   \n",
       "1         Parque Central      Montevideo             USA                3   \n",
       "2         Parque Central      Montevideo      Yugoslavia                2   \n",
       "3                Pocitos      Montevideo         Romania                3   \n",
       "4         Parque Central      Montevideo       Argentina                1   \n",
       "..                   ...              ...            ...              ...   \n",
       "847     Arena Fonte Nova        Salvador     Netherlands                0   \n",
       "848     Estadio Mineirao  Belo Horizonte          Brazil                1   \n",
       "849   Arena de Sao Paulo       Sao Paulo     Netherlands                0   \n",
       "850     Estadio Nacional        Brasilia          Brazil                0   \n",
       "851  Estadio do Maracana  Rio De Janeiro         Germany                1   \n",
       "\n",
       "     Away Team Goals Away Team Name                         Win conditions  \\\n",
       "0                  1         Mexico                                          \n",
       "1                  0        Belgium                                          \n",
       "2                  1         Brazil                                          \n",
       "3                  1           Peru                                          \n",
       "4                  0         France                                          \n",
       "..               ...            ...                                    ...   \n",
       "847                0     Costa Rica  Netherlands win on penalties (4 - 3)    \n",
       "848                7        Germany                                          \n",
       "849                0      Argentina    Argentina win on penalties (2 - 4)    \n",
       "850                3    Netherlands                                          \n",
       "851                0      Argentina          Germany win after extra time    \n",
       "\n",
       "     ...  Half-time Away Goals                 Referee  \\\n",
       "0    ...                     0  LOMBARDI Domingo (URU)   \n",
       "1    ...                     0       MACIAS Jose (ARG)   \n",
       "2    ...                     0     TEJADA Anibal (URU)   \n",
       "3    ...                     0   WARNKEN Alberto (CHI)   \n",
       "4    ...                     0     REGO Gilberto (BRA)   \n",
       "..   ...                   ...                     ...   \n",
       "847  ...                     0   Ravshan IRMATOV (UZB)   \n",
       "848  ...                     5   RODRIGUEZ Marco (MEX)   \n",
       "849  ...                     0      C�neyt �AKIR (TUR)   \n",
       "850  ...                     2   HAIMOUDI Djamel (ALG)   \n",
       "851  ...                     0    Nicola RIZZOLI (ITA)   \n",
       "\n",
       "                     Assistant 1                 Assistant 2 RoundID  \\\n",
       "0          CRISTOPHE Henry (BEL)         REGO Gilberto (BRA)     201   \n",
       "1       MATEUCCI Francisco (URU)       WARNKEN Alberto (CHI)     201   \n",
       "2        VALLARINO Ricardo (URU)         BALWAY Thomas (FRA)     201   \n",
       "3            LANGENUS Jean (BEL)    MATEUCCI Francisco (URU)     201   \n",
       "4           SAUCEDO Ulises (BOL)  RADULESCU Constantin (ROU)     201   \n",
       "..                           ...                         ...     ...   \n",
       "847  RASULOV Abduxamidullo (UZB)    KOCHKAROV Bakhadyr (KGZ)  255953   \n",
       "848      TORRENTERA Marvin (MEX)       QUINTERO Marcos (MEX)  255955   \n",
       "849         DURAN Bahattin (TUR)           ONGUN Tarik (TUR)  255955   \n",
       "850         ACHIK Redouane (MAR)     ETCHIALI Abdelhak (ALG)  255957   \n",
       "851        Renato FAVERANI (ITA)        Andrea STEFANI (ITA)  255959   \n",
       "\n",
       "       MatchID  Home Team Initials  Away Team Initials Total Goals  \\\n",
       "0         1096                 FRA                 MEX           5   \n",
       "1         1090                 USA                 BEL           3   \n",
       "2         1093                 YUG                 BRA           3   \n",
       "3         1098                 ROU                 PER           4   \n",
       "4         1085                 ARG                 FRA           1   \n",
       "..         ...                 ...                 ...         ...   \n",
       "847  300186488                 NED                 CRC           0   \n",
       "848  300186474                 BRA                 GER           8   \n",
       "849  300186490                 NED                 ARG           0   \n",
       "850  300186502                 BRA                 NED           3   \n",
       "851  300186501                 GER                 ARG           1   \n",
       "\n",
       "    Half-time Goals  \n",
       "0                 3  \n",
       "1                 2  \n",
       "2                 2  \n",
       "3                 1  \n",
       "4                 0  \n",
       "..              ...  \n",
       "847               0  \n",
       "848               5  \n",
       "849               0  \n",
       "850               2  \n",
       "851               0  \n",
       "\n",
       "[852 rows x 22 columns]>"
      ]
     },
     "execution_count": 70,
     "metadata": {},
     "output_type": "execute_result"
    }
   ],
   "source": [
    "# Check the updated coludf\n",
    "df.info"
   ]
  },
  {
   "cell_type": "markdown",
   "metadata": {},
   "source": [
    "## Summary\n",
    "\n",
    "In this lab, you practiced accessing data within Pandas!"
   ]
  }
 ],
 "metadata": {
  "kernelspec": {
   "display_name": "Python (learn-env)",
   "language": "python",
   "name": "learn-env"
  },
  "language_info": {
   "codemirror_mode": {
    "name": "ipython",
    "version": 3
   },
   "file_extension": ".py",
   "mimetype": "text/x-python",
   "name": "python",
   "nbconvert_exporter": "python",
   "pygments_lexer": "ipython3",
   "version": "3.8.5"
  }
 },
 "nbformat": 4,
 "nbformat_minor": 2
}
